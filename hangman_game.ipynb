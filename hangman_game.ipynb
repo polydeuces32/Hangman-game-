{
  "nbformat": 4,
  "nbformat_minor": 0,
  "metadata": {
    "colab": {
      "private_outputs": true,
      "provenance": [],
      "authorship_tag": "ABX9TyNRCSD9Y6kHEuVGG8bcSKKA",
      "include_colab_link": true
    },
    "kernelspec": {
      "name": "python3",
      "display_name": "Python 3"
    },
    "language_info": {
      "name": "python"
    }
  },
  "cells": [
    {
      "cell_type": "markdown",
      "metadata": {
        "id": "view-in-github",
        "colab_type": "text"
      },
      "source": [
        "<a href=\"https://colab.research.google.com/github/polydeuces32/Hangman-game-/blob/main/hangman_game.ipynb\" target=\"_parent\"><img src=\"https://colab.research.google.com/assets/colab-badge.svg\" alt=\"Open In Colab\"/></a>"
      ]
    },
    {
      "cell_type": "code",
      "execution_count": null,
      "metadata": {
        "id": "KMCYz1NXVEBB"
      },
      "outputs": [],
      "source": [
        "import random\n",
        "\n",
        "# Hangman words and associated challenges\n",
        "words = {\n",
        "    \"print\": \"Write a Python function that prints 'Hello, World!'.\",\n",
        "    \"variable\": \"Define a variable and print its value.\",\n",
        "    \"string\": \"Concatenate two strings and print the result.\",\n",
        "    \"if\": \"Write an if-else statement to check if a number is positive or negative.\",\n",
        "    \"for\": \"Write a for loop to print numbers from 1 to 10.\",\n",
        "    \"function\": \"Define a function that takes two arguments and returns their sum.\"\n",
        "}\n",
        "\n",
        "# Function to display the current state of the hangman word\n",
        "def display_word(word, guessed_letters):\n",
        "    display = ''\n",
        "    for letter in word:\n",
        "        if letter in guessed_letters:\n",
        "            display += letter + ' '\n",
        "        else:\n",
        "            display += '_ '\n",
        "    return display.strip()\n",
        "\n",
        "# Function to check if the player has won\n",
        "def check_win(word, guessed_letters):\n",
        "    return all(letter in guessed_letters for letter in word)\n",
        "\n",
        "# Main game function\n",
        "def play_hangman():\n",
        "    word = random.choice(list(words.keys()))\n",
        "    challenge = words[word]\n",
        "    guessed_letters = set()\n",
        "    incorrect_guesses = 0\n",
        "    max_incorrect_guesses = 6\n",
        "\n",
        "    print(\"Welcome to Python Hangman Quest!\")\n",
        "    print(\"Guess the word to save your avatar from the hangman.\")\n",
        "\n",
        "    while incorrect_guesses < max_incorrect_guesses:\n",
        "        print(\"\\n\" + display_word(word, guessed_letters))\n",
        "        guess = input(\"Guess a letter: \").lower()\n",
        "\n",
        "        if guess in guessed_letters:\n",
        "            print(\"You already guessed that letter.\")\n",
        "        elif guess in word:\n",
        "            print(\"Correct!\")\n",
        "            guessed_letters.add(guess)\n",
        "        else:\n",
        "            print(\"Incorrect!\")\n",
        "            guessed_letters.add(guess)\n",
        "            incorrect_guesses += 1\n",
        "            print(f\"Incorrect guesses: {incorrect_guesses}/{max_incorrect_guesses}\")\n",
        "\n",
        "        if check_win(word, guessed_letters):\n",
        "            print(\"\\nCongratulations! You guessed the word: \" + word)\n",
        "            print(\"Coding Challenge: \" + challenge)\n",
        "            # You can add code here to check the player's solution to the challenge\n",
        "            break\n",
        "    else:\n",
        "        print(\"\\nSorry, you've been FUCKED! The word was: \" + word)\n",
        "\n",
        "# Start the game\n",
        "play_hangman()\n"
      ]
    }
  ]
}